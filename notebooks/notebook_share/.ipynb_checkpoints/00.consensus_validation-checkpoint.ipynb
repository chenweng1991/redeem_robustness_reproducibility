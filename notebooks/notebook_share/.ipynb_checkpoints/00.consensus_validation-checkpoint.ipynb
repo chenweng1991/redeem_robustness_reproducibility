{
 "cells": [
  {
   "cell_type": "markdown",
   "id": "937dd141-1d00-4891-b114-d6f57f81f1b2",
   "metadata": {},
   "source": [
    "# 00 mutation signature and Ad hoc validation for position-biased and LMHC mutations\n",
    "---\n",
    "\n",
    "**Author:** Chen Weng\n",
    "\n",
    "**Date:** August 7, 2024\n",
    "\n",
    "## Load packages and functions\n",
    "\n",
    "\n",
    "---\n"
   ]
  },
  {
   "cell_type": "markdown",
   "id": "f9339694-e8ad-432e-afc4-cca44dd826c1",
   "metadata": {},
   "source": [
    "# Load packages & Functions"
   ]
  },
  {
   "cell_type": "code",
   "execution_count": 1,
   "id": "d9a25a06-9a98-434f-99f5-03d63c31ff1b",
   "metadata": {
    "collapsed": true,
    "jupyter": {
     "outputs_hidden": true
    },
    "tags": []
   },
   "outputs": [
    {
     "name": "stderr",
     "output_type": "stream",
     "text": [
      "Warning message:\n",
      "“replacing previous import ‘ape::where’ by ‘dplyr::where’ when loading ‘redeemR’”\n",
      "Warning message:\n",
      "“replacing previous import ‘ape::keep.tip’ by ‘tidytree::keep.tip’ when loading ‘redeemR’”\n",
      "Warning message:\n",
      "“replacing previous import ‘ape::drop.tip’ by ‘tidytree::drop.tip’ when loading ‘redeemR’”\n",
      "\n",
      "Attaching package: ‘igraph’\n",
      "\n",
      "\n",
      "The following objects are masked from ‘package:stats’:\n",
      "\n",
      "    decompose, spectrum\n",
      "\n",
      "\n",
      "The following object is masked from ‘package:base’:\n",
      "\n",
      "    union\n",
      "\n",
      "\n",
      "\n",
      "Attaching package: ‘dplyr’\n",
      "\n",
      "\n",
      "The following objects are masked from ‘package:igraph’:\n",
      "\n",
      "    as_data_frame, groups, union\n",
      "\n",
      "\n",
      "The following objects are masked from ‘package:stats’:\n",
      "\n",
      "    filter, lag\n",
      "\n",
      "\n",
      "The following objects are masked from ‘package:base’:\n",
      "\n",
      "    intersect, setdiff, setequal, union\n",
      "\n",
      "\n",
      "\u001b[90mtreeio v1.26.0 For help: https://yulab-smu.top/treedata-book/\n",
      "\n",
      "If you use the ggtree package suite in published research, please cite\n",
      "the appropriate paper(s):\n",
      "\n",
      "LG Wang, TTY Lam, S Xu, Z Dai, L Zhou, T Feng, P Guo, CW Dunn, BR\n",
      "Jones, T Bradley, H Zhu, Y Guan, Y Jiang, G Yu. treeio: an R package\n",
      "for phylogenetic tree input and output with richly annotated and\n",
      "associated data. Molecular Biology and Evolution. 2020, 37(2):599-603.\n",
      "doi: 10.1093/molbev/msz240\n",
      "\n",
      "Guangchuang Yu, Tommy Tsan-Yuk Lam, Huachen Zhu, Yi Guan. Two methods\n",
      "for mapping and visualizing associated data on phylogeny using ggtree.\n",
      "Molecular Biology and Evolution. 2018, 35(12):3041-3043.\n",
      "doi:10.1093/molbev/msy194\n",
      "\n",
      "Guangchuang Yu, David Smith, Huachen Zhu, Yi Guan, Tommy Tsan-Yuk Lam.\n",
      "ggtree: an R package for visualization and annotation of phylogenetic\n",
      "trees with their covariates and other associated data. Methods in\n",
      "Ecology and Evolution. 2017, 8(1):28-36. doi:10.1111/2041-210X.12628\n",
      "\u001b[39m\n",
      "\n",
      "\n",
      "Attaching package: ‘treeio’\n",
      "\n",
      "\n",
      "The following object is masked from ‘package:igraph’:\n",
      "\n",
      "    parent\n",
      "\n",
      "\n",
      "\u001b[90mggtree v3.10.0 For help: https://yulab-smu.top/treedata-book/\n",
      "\n",
      "If you use the ggtree package suite in published research, please cite\n",
      "the appropriate paper(s):\n",
      "\n",
      "Guangchuang Yu, David Smith, Huachen Zhu, Yi Guan, Tommy Tsan-Yuk Lam.\n",
      "ggtree: an R package for visualization and annotation of phylogenetic\n",
      "trees with their covariates and other associated data. Methods in\n",
      "Ecology and Evolution. 2017, 8(1):28-36. doi:10.1111/2041-210X.12628\n",
      "\n",
      "S Xu, Z Dai, P Guo, X Fu, S Liu, L Zhou, W Tang, T Feng, M Chen, L\n",
      "Zhan, T Wu, E Hu, Y Jiang, X Bo, G Yu. ggtreeExtra: Compact\n",
      "visualization of richly annotated phylogenetic data. Molecular Biology\n",
      "and Evolution. 2021, 38(9):4039-4042. doi: 10.1093/molbev/msab166\n",
      "\n",
      "Guangchuang Yu, Tommy Tsan-Yuk Lam, Huachen Zhu, Yi Guan. Two methods\n",
      "for mapping and visualizing associated data on phylogeny using ggtree.\n",
      "Molecular Biology and Evolution. 2018, 35(12):3041-3043.\n",
      "doi:10.1093/molbev/msy194 \u001b[39m\n",
      "\n",
      "\n",
      "Attaching package: ‘ggtree’\n",
      "\n",
      "\n",
      "The following object is masked from ‘package:Matrix’:\n",
      "\n",
      "    expand\n",
      "\n",
      "\n",
      "The following object is masked from ‘package:ggpubr’:\n",
      "\n",
      "    rotate\n",
      "\n",
      "\n",
      "\u001b[90mggtreeExtra v1.12.0 For help: https://yulab-smu.top/treedata-book/\n",
      "\n",
      "If you use the ggtree package suite in published research, please cite\n",
      "the appropriate paper(s):\n",
      "\n",
      "S Xu, Z Dai, P Guo, X Fu, S Liu, L Zhou, W Tang, T Feng, M Chen, L\n",
      "Zhan, T Wu, E Hu, Y Jiang, X Bo, G Yu. ggtreeExtra: Compact\n",
      "visualization of richly annotated phylogenetic data. Molecular Biology\n",
      "and Evolution. 2021, 38(9):4039-4042. doi: 10.1093/molbev/msab166 \u001b[39m\n",
      "\n",
      "\n",
      "Attaching package: ‘gridExtra’\n",
      "\n",
      "\n",
      "The following object is masked from ‘package:dplyr’:\n",
      "\n",
      "    combine\n",
      "\n",
      "\n",
      "Loading required package: SeuratObject\n",
      "\n",
      "Loading required package: sp\n",
      "\n",
      "\n",
      "Attaching package: ‘SeuratObject’\n",
      "\n",
      "\n",
      "The following object is masked from ‘package:base’:\n",
      "\n",
      "    intersect\n",
      "\n",
      "\n",
      "\n",
      "Attaching package: ‘Seurat’\n",
      "\n",
      "\n",
      "The following object is masked from ‘package:igraph’:\n",
      "\n",
      "    components\n",
      "\n",
      "\n"
     ]
    }
   ],
   "source": [
    "library(ggplot2)\n",
    "library(redeemR)\n",
    "library(ggpubr)\n",
    "library(igraph)\n",
    "library(Matrix)\n",
    "library(dplyr)\n",
    "library(treeio)\n",
    "library(ggtree)\n",
    "library(ggtreeExtra)\n",
    "library(gridExtra)\n",
    "library(RColorBrewer)\n",
    "library(qvalue)\n",
    "library(Seurat)\n",
    "library(stringr)\n",
    "library(reshape2)\n",
    "addstat<-function(){\n",
    "    stat_summary(fun = median, geom = \"text\", aes(label = round(..y.., 2)), vjust = -0.5, color = \"black\")\n",
    "}\n",
    "make_position_df_3 <- function(in_df){\n",
    "  first<-str_split_fixed(in_df[[\"V1\"]], \"_\", 3)[,c(2)] %>% as.numeric()\n",
    "  last<-str_split_fixed(in_df[[\"V1\"]], \"_\", 3)[,c(3)] %>% as.numeric()\n",
    "  dist_edge=pmin(abs(in_df$V3-first),  abs(in_df$V3-last))\n",
    "  return(dist_edge)\n",
    "}\n",
    "theme_bigger <- function(axis_title_size = 14, axis_text_size = 12) {\n",
    "  theme(\n",
    "    axis.title = element_text(size = axis_title_size,color=\"black\"),  # Set axis title size\n",
    "    axis.text = element_text(size = axis_text_size,color=\"black\")     # Set axis text size\n",
    "  )\n",
    "}\n",
    "compute_nonzeropct<-function(x){\n",
    "    sum(x>0)/length(x)\n",
    "}\n",
    "compute_strand<-function(x,y){\n",
    "    sum(x)/(sum(x)+sum(y))\n",
    "}"
   ]
  },
  {
   "cell_type": "markdown",
   "id": "e720a3ae-c44e-4fed-9185-8b343608dd6f",
   "metadata": {
    "tags": []
   },
   "source": [
    "## Load data"
   ]
  },
  {
   "cell_type": "code",
   "execution_count": 5,
   "id": "9eb51d69-c87b-4325-815b-0befe68a60c3",
   "metadata": {
    "tags": []
   },
   "outputs": [],
   "source": [
    "total_raw_gt.filter <- readRDS(\"../../data/adhoc.gt_filter_data.rds\")"
   ]
  },
  {
   "cell_type": "code",
   "execution_count": 4,
   "id": "cc14d35d-f576-4ef6-8543-3a96b6349c1a",
   "metadata": {
    "tags": []
   },
   "outputs": [
    {
     "data": {
      "text/html": [
       "'/lab/solexa_weissman/cweng/Projects/Collaborator/Caleb/github_redeem_plus/notebooks/notebooe_share'"
      ],
      "text/latex": [
       "'/lab/solexa\\_weissman/cweng/Projects/Collaborator/Caleb/github\\_redeem\\_plus/notebooks/notebooe\\_share'"
      ],
      "text/markdown": [
       "'/lab/solexa_weissman/cweng/Projects/Collaborator/Caleb/github_redeem_plus/notebooks/notebooe_share'"
      ],
      "text/plain": [
       "[1] \"/lab/solexa_weissman/cweng/Projects/Collaborator/Caleb/github_redeem_plus/notebooks/notebooe_share\""
      ]
     },
     "metadata": {},
     "output_type": "display_data"
    }
   ],
   "source": [
    "getwd()"
   ]
  },
  {
   "cell_type": "markdown",
   "id": "45bbac02-6025-43c2-9ac4-93eb15dbb720",
   "metadata": {},
   "source": [
    "## UMI family size comparison between Edge & Non-edge, LMHC & Non-LMHC"
   ]
  },
  {
   "cell_type": "code",
   "execution_count": 6,
   "id": "7f98a5f8-34e9-453a-8ab2-f5da883783ea",
   "metadata": {
    "tags": []
   },
   "outputs": [
    {
     "name": "stderr",
     "output_type": "stream",
     "text": [
      "Warning message:\n",
      "“\u001b[1m\u001b[22mThe dot-dot notation (`..y..`) was deprecated in ggplot2 3.4.0.\n",
      "\u001b[36mℹ\u001b[39m Please use `after_stat(y)` instead.”\n",
      "Warning message:\n",
      "“\u001b[1m\u001b[22mRemoved 2428 rows containing non-finite values (`stat_boxplot()`).”\n",
      "Warning message:\n",
      "“\u001b[1m\u001b[22mRemoved 2428 rows containing non-finite values (`stat_summary()`).”\n",
      "Warning message:\n",
      "“\u001b[1m\u001b[22mRemoved 2428 rows containing non-finite values (`stat_boxplot()`).”\n",
      "Warning message:\n",
      "“\u001b[1m\u001b[22mRemoved 2428 rows containing non-finite values (`stat_summary()`).”\n"
     ]
    },
    {
     "data": {
      "image/png": "[encoded data removed]",
      "text/plain": [
       "plot without title"
      ]
     },
     "metadata": {
      "image/png": {
       "height": 200,
       "width": 400
      }
     },
     "output_type": "display_data"
    }
   ],
   "source": [
    "options(repr.plot.width = 8, repr.plot.height = 4, repr.plot.res = 100)\n",
    "p.umi.1 <- total_raw_gt.filter %>% ggplot()+aes(label,V7)+geom_boxplot(outlier.shape = NA)+ylim(0,30)+theme_classic()+theme_bigger(12,8)+labs(x=\"\",y=\"UMI family size\")+addstat()\n",
    "p.umi.2 <- total_raw_gt.filter %>% ggplot()+aes(label3,V7)+geom_boxplot(outlier.shape = NA)+ylim(0,30)+theme_classic()+theme_bigger(12,8)+labs(x=\"\",y=\"UMI family size\")+addstat()\n",
    "grid.arrange(p.umi.1,p.umi.2,ncol=2)"
   ]
  },
  {
   "cell_type": "markdown",
   "id": "d5da3fc0-df49-4297-a97a-40274051c965",
   "metadata": {
    "tags": []
   },
   "source": [
    "## Percentage of ovarlap PE reads comparison between Edge & Non-edge, LMHC & Non-LMHC"
   ]
  },
  {
   "cell_type": "code",
   "execution_count": 7,
   "id": "dd4bba0e-c572-4594-8d24-5ccbf302ce47",
   "metadata": {
    "tags": []
   },
   "outputs": [
    {
     "name": "stderr",
     "output_type": "stream",
     "text": [
      "\u001b[1m\u001b[22m`summarise()` has grouped output by 'V4'. You can override using the `.groups`\n",
      "argument.\n",
      "\u001b[1m\u001b[22m`summarise()` has grouped output by 'V4'. You can override using the `.groups`\n",
      "argument.\n"
     ]
    },
    {
     "data": {
      "image/png": "[encoded data removed]",
      "text/plain": [
       "plot without title"
      ]
     },
     "metadata": {
      "image/png": {
       "height": 200,
       "width": 400
      }
     },
     "output_type": "display_data"
    }
   ],
   "source": [
    "##  check overlap rate\n",
    "p.or.1 <- total_raw_gt.filter %>% group_by(V4, label) %>% \n",
    "summarise(double_ratio=compute_nonzeropct(V10),) %>% ggplot()+aes(label,double_ratio)+geom_boxplot(outlier.shape=NA)+theme_classic()+theme_bigger(12,8)+addstat()\n",
    "p.or.2 <- total_raw_gt.filter %>% group_by(V4, label3) %>% \n",
    "summarise(double_ratio=compute_nonzeropct(V10),) %>% ggplot()+aes(label3,double_ratio)+geom_boxplot(outlier.shape=NA)+theme_classic()+theme_bigger(12,8)+addstat()\n",
    "grid.arrange(p.or.1,p.or.2,ncol=2)"
   ]
  },
  {
   "cell_type": "markdown",
   "id": "9b4ec89f-027c-4c58-9b40-d77cbd877c29",
   "metadata": {
    "tags": []
   },
   "source": [
    "## Strand bias comparison between Edge & Non-edge, LMHC & Non-LMHC"
   ]
  },
  {
   "cell_type": "code",
   "execution_count": 34,
   "id": "2142d880-e9bb-4d0f-a9c1-fbf75fb66e11",
   "metadata": {
    "tags": []
   },
   "outputs": [
    {
     "name": "stderr",
     "output_type": "stream",
     "text": [
      "\u001b[1m\u001b[22m`summarise()` has grouped output by 'V4'. You can override using the `.groups`\n",
      "argument.\n",
      "\u001b[1m\u001b[22m`summarise()` has grouped output by 'V4'. You can override using the `.groups`\n",
      "argument.\n"
     ]
    },
    {
     "data": {
      "image/png": "[encoded data removed]",
      "text/plain": [
       "plot without title"
      ]
     },
     "metadata": {
      "image/png": {
       "height": 200,
       "width": 400
      }
     },
     "output_type": "display_data"
    }
   ],
   "source": [
    "## Check strand biases\n",
    "p.strand.1 <- total_raw_gt.filter %>% group_by(V4, label) %>% \n",
    "summarise(double_ratio=compute_strand(V12,V13),) %>% ggplot()+aes(label,double_ratio)+geom_boxplot(outlier.shape=NA)+theme_classic()+theme_bigger(12,8)+addstat()\n",
    "\n",
    "p.strand.2 <- total_raw_gt.filter %>% group_by(V4, label3) %>% \n",
    "summarise(double_ratio=compute_strand(V12,V13),) %>% ggplot()+aes(label3,double_ratio)+geom_boxplot(outlier.shape=NA)+theme_classic()+theme_bigger(12,8)+addstat()\n",
    "grid.arrange(p.strand.1, p.strand.2, ncol=2)"
   ]
  },
  {
   "cell_type": "code",
   "execution_count": null,
   "id": "e5816564-7b54-4181-bc16-6f4f669440cf",
   "metadata": {
    "tags": []
   },
   "outputs": [
    {
     "data": {
      "text/html": [
       "<table class=\"dataframe\">\n",
       "<caption>A data.frame: 6 × 20</caption>\n",
       "<thead>\n",
       "\t<tr><th></th><th scope=col>UMI</th><th scope=col>Cell</th><th scope=col>Pos</th><th scope=col>Variants</th><th scope=col>Call</th><th scope=col>Ref</th><th scope=col>FamSize</th><th scope=col>GT_Cts</th><th scope=col>CSS</th><th scope=col>DB_Cts</th><th scope=col>SG_Cts</th><th scope=col>Plus</th><th scope=col>Minus</th><th scope=col>Depth</th><th scope=col>success</th><th scope=col>pvalue</th><th scope=col>FDR</th><th scope=col>dist_edge</th><th scope=col>label</th><th scope=col>label3</th></tr>\n",
       "\t<tr><th></th><th scope=col>&lt;chr&gt;</th><th scope=col>&lt;chr&gt;</th><th scope=col>&lt;int&gt;</th><th scope=col>&lt;chr&gt;</th><th scope=col>&lt;chr&gt;</th><th scope=col>&lt;chr&gt;</th><th scope=col>&lt;dbl&gt;</th><th scope=col>&lt;dbl&gt;</th><th scope=col>&lt;dbl&gt;</th><th scope=col>&lt;dbl&gt;</th><th scope=col>&lt;dbl&gt;</th><th scope=col>&lt;int&gt;</th><th scope=col>&lt;int&gt;</th><th scope=col>&lt;dbl&gt;</th><th scope=col>&lt;dbl&gt;</th><th scope=col>&lt;dbl&gt;</th><th scope=col>&lt;dbl&gt;</th><th scope=col>&lt;dbl&gt;</th><th scope=col>&lt;chr&gt;</th><th scope=col>&lt;chr&gt;</th></tr>\n",
       "</thead>\n",
       "<tbody>\n",
       "\t<tr><th scope=row>29</th><td>ATTACGAAGGACACGC_212_79 </td><td>ATTACGAAGGACACGC</td><td>199</td><td>199_T_C</td><td>C</td><td>T</td><td>1</td><td>1</td><td>1</td><td>1</td><td>0</td><td>1</td><td>1</td><td>2</td><td>0</td><td>0.5</td><td>0.5</td><td>13</td><td>mid_region</td><td>other</td></tr>\n",
       "\t<tr><th scope=row>30</th><td>ATTACGAAGGACACGC_105_283</td><td>ATTACGAAGGACACGC</td><td>199</td><td>199_T_C</td><td>C</td><td>T</td><td>1</td><td>1</td><td>1</td><td>1</td><td>0</td><td>1</td><td>1</td><td>2</td><td>0</td><td>0.5</td><td>0.5</td><td>84</td><td>mid_region</td><td>other</td></tr>\n",
       "\t<tr><th scope=row>31</th><td>ATTACGAAGGACACGC_212_79 </td><td>ATTACGAAGGACACGC</td><td>204</td><td>204_T_C</td><td>C</td><td>T</td><td>1</td><td>1</td><td>1</td><td>1</td><td>0</td><td>1</td><td>1</td><td>2</td><td>0</td><td>0.5</td><td>0.5</td><td> 8</td><td>9bp       </td><td>other</td></tr>\n",
       "\t<tr><th scope=row>32</th><td>ATTACGAAGGACACGC_105_283</td><td>ATTACGAAGGACACGC</td><td>204</td><td>204_T_C</td><td>C</td><td>T</td><td>1</td><td>1</td><td>1</td><td>1</td><td>0</td><td>1</td><td>1</td><td>2</td><td>0</td><td>0.5</td><td>0.5</td><td>79</td><td>mid_region</td><td>other</td></tr>\n",
       "\t<tr><th scope=row>33</th><td>ATTACGAAGGACACGC_212_79 </td><td>ATTACGAAGGACACGC</td><td>207</td><td>207_G_A</td><td>A</td><td>G</td><td>1</td><td>1</td><td>1</td><td>1</td><td>0</td><td>1</td><td>1</td><td>2</td><td>0</td><td>0.5</td><td>0.5</td><td> 5</td><td>9bp       </td><td>other</td></tr>\n",
       "\t<tr><th scope=row>34</th><td>ATTACGAAGGACACGC_105_283</td><td>ATTACGAAGGACACGC</td><td>207</td><td>207_G_A</td><td>A</td><td>G</td><td>1</td><td>1</td><td>1</td><td>1</td><td>0</td><td>1</td><td>1</td><td>2</td><td>0</td><td>0.5</td><td>0.5</td><td>76</td><td>mid_region</td><td>other</td></tr>\n",
       "</tbody>\n",
       "</table>\n"
      ],
      "text/latex": [
       "A data.frame: 6 × 20\n",
       "\\begin{tabular}{r|llllllllllllllllllll}\n",
       "  & UMI & Cell & Pos & Variants & Call & Ref & FamSize & GT\\_Cts & CSS & DB\\_Cts & SG\\_Cts & Plus & Minus & Depth & success & pvalue & FDR & dist\\_edge & label & label3\\\\\n",
       "  & <chr> & <chr> & <int> & <chr> & <chr> & <chr> & <dbl> & <dbl> & <dbl> & <dbl> & <dbl> & <int> & <int> & <dbl> & <dbl> & <dbl> & <dbl> & <dbl> & <chr> & <chr>\\\\\n",
       "\\hline\n",
       "\t29 & ATTACGAAGGACACGC\\_212\\_79  & ATTACGAAGGACACGC & 199 & 199\\_T\\_C & C & T & 1 & 1 & 1 & 1 & 0 & 1 & 1 & 2 & 0 & 0.5 & 0.5 & 13 & mid\\_region & other\\\\\n",
       "\t30 & ATTACGAAGGACACGC\\_105\\_283 & ATTACGAAGGACACGC & 199 & 199\\_T\\_C & C & T & 1 & 1 & 1 & 1 & 0 & 1 & 1 & 2 & 0 & 0.5 & 0.5 & 84 & mid\\_region & other\\\\\n",
       "\t31 & ATTACGAAGGACACGC\\_212\\_79  & ATTACGAAGGACACGC & 204 & 204\\_T\\_C & C & T & 1 & 1 & 1 & 1 & 0 & 1 & 1 & 2 & 0 & 0.5 & 0.5 &  8 & 9bp        & other\\\\\n",
       "\t32 & ATTACGAAGGACACGC\\_105\\_283 & ATTACGAAGGACACGC & 204 & 204\\_T\\_C & C & T & 1 & 1 & 1 & 1 & 0 & 1 & 1 & 2 & 0 & 0.5 & 0.5 & 79 & mid\\_region & other\\\\\n",
       "\t33 & ATTACGAAGGACACGC\\_212\\_79  & ATTACGAAGGACACGC & 207 & 207\\_G\\_A & A & G & 1 & 1 & 1 & 1 & 0 & 1 & 1 & 2 & 0 & 0.5 & 0.5 &  5 & 9bp        & other\\\\\n",
       "\t34 & ATTACGAAGGACACGC\\_105\\_283 & ATTACGAAGGACACGC & 207 & 207\\_G\\_A & A & G & 1 & 1 & 1 & 1 & 0 & 1 & 1 & 2 & 0 & 0.5 & 0.5 & 76 & mid\\_region & other\\\\\n",
       "\\end{tabular}\n"
      ],
      "text/markdown": [
       "\n",
       "A data.frame: 6 × 20\n",
       "\n",
       "| <!--/--> | UMI &lt;chr&gt; | Cell &lt;chr&gt; | Pos &lt;int&gt; | Variants &lt;chr&gt; | Call &lt;chr&gt; | Ref &lt;chr&gt; | FamSize &lt;dbl&gt; | GT_Cts &lt;dbl&gt; | CSS &lt;dbl&gt; | DB_Cts &lt;dbl&gt; | SG_Cts &lt;dbl&gt; | Plus &lt;int&gt; | Minus &lt;int&gt; | Depth &lt;dbl&gt; | success &lt;dbl&gt; | pvalue &lt;dbl&gt; | FDR &lt;dbl&gt; | dist_edge &lt;dbl&gt; | label &lt;chr&gt; | label3 &lt;chr&gt; |\n",
       "|---|---|---|---|---|---|---|---|---|---|---|---|---|---|---|---|---|---|---|---|---|\n",
       "| 29 | ATTACGAAGGACACGC_212_79  | ATTACGAAGGACACGC | 199 | 199_T_C | C | T | 1 | 1 | 1 | 1 | 0 | 1 | 1 | 2 | 0 | 0.5 | 0.5 | 13 | mid_region | other |\n",
       "| 30 | ATTACGAAGGACACGC_105_283 | ATTACGAAGGACACGC | 199 | 199_T_C | C | T | 1 | 1 | 1 | 1 | 0 | 1 | 1 | 2 | 0 | 0.5 | 0.5 | 84 | mid_region | other |\n",
       "| 31 | ATTACGAAGGACACGC_212_79  | ATTACGAAGGACACGC | 204 | 204_T_C | C | T | 1 | 1 | 1 | 1 | 0 | 1 | 1 | 2 | 0 | 0.5 | 0.5 |  8 | 9bp        | other |\n",
       "| 32 | ATTACGAAGGACACGC_105_283 | ATTACGAAGGACACGC | 204 | 204_T_C | C | T | 1 | 1 | 1 | 1 | 0 | 1 | 1 | 2 | 0 | 0.5 | 0.5 | 79 | mid_region | other |\n",
       "| 33 | ATTACGAAGGACACGC_212_79  | ATTACGAAGGACACGC | 207 | 207_G_A | A | G | 1 | 1 | 1 | 1 | 0 | 1 | 1 | 2 | 0 | 0.5 | 0.5 |  5 | 9bp        | other |\n",
       "| 34 | ATTACGAAGGACACGC_105_283 | ATTACGAAGGACACGC | 207 | 207_G_A | A | G | 1 | 1 | 1 | 1 | 0 | 1 | 1 | 2 | 0 | 0.5 | 0.5 | 76 | mid_region | other |\n",
       "\n"
      ],
      "text/plain": [
       "   UMI                      Cell             Pos Variants Call Ref FamSize\n",
       "29 ATTACGAAGGACACGC_212_79  ATTACGAAGGACACGC 199 199_T_C  C    T   1      \n",
       "30 ATTACGAAGGACACGC_105_283 ATTACGAAGGACACGC 199 199_T_C  C    T   1      \n",
       "31 ATTACGAAGGACACGC_212_79  ATTACGAAGGACACGC 204 204_T_C  C    T   1      \n",
       "32 ATTACGAAGGACACGC_105_283 ATTACGAAGGACACGC 204 204_T_C  C    T   1      \n",
       "33 ATTACGAAGGACACGC_212_79  ATTACGAAGGACACGC 207 207_G_A  A    G   1      \n",
       "34 ATTACGAAGGACACGC_105_283 ATTACGAAGGACACGC 207 207_G_A  A    G   1      \n",
       "   GT_Cts CSS DB_Cts SG_Cts Plus Minus Depth success pvalue FDR dist_edge\n",
       "29 1      1   1      0      1    1     2     0       0.5    0.5 13       \n",
       "30 1      1   1      0      1    1     2     0       0.5    0.5 84       \n",
       "31 1      1   1      0      1    1     2     0       0.5    0.5  8       \n",
       "32 1      1   1      0      1    1     2     0       0.5    0.5 79       \n",
       "33 1      1   1      0      1    1     2     0       0.5    0.5  5       \n",
       "34 1      1   1      0      1    1     2     0       0.5    0.5 76       \n",
       "   label      label3\n",
       "29 mid_region other \n",
       "30 mid_region other \n",
       "31 9bp        other \n",
       "32 mid_region other \n",
       "33 9bp        other \n",
       "34 mid_region other "
      ]
     },
     "metadata": {},
     "output_type": "display_data"
    }
   ],
   "source": [
    "head(total_raw_gt.filter)"
   ]
  },
  {
   "cell_type": "code",
   "execution_count": null,
   "id": "e64170d7-88c7-4b7d-b9ff-51531f82d66f",
   "metadata": {},
   "outputs": [],
   "source": [
    "## Consensus score comparison between Edge & Non-edge, LMHC & Non-LMHC"
   ]
  },
  {
   "cell_type": "code",
   "execution_count": 45,
   "id": "dae00c5a-571a-4d5f-a464-dc9a28d73883",
   "metadata": {},
   "outputs": [
    {
     "data": {
      "image/png": "[encoded data removed]",
      "text/plain": [
       "Plot with title “fam>=4”"
      ]
     },
     "metadata": {
      "image/png": {
       "height": 250,
       "width": 500
      }
     },
     "output_type": "display_data"
    }
   ],
   "source": [
    "options(repr.plot.width = 10, repr.plot.height = 5, repr.plot.res = 100)\n",
    "par(mfrow=c(1,2))\n",
    "## Draw distribution of consensus score, family size>=4\n",
    "subset(total_raw_gt.filter, FamSize>=4 & label==\"9bp\")$CSS %>% density() %>% plot(col=\"blue\",main=\"fam>=4\")\n",
    "legend(\"topleft\", c(\"y = mid_region\", \"y = 9bp-region\"),col=c(\"red\", \"blue\"),lty=1)\n",
    "subset(total_raw_gt.filter, FamSize>=4 & label==\"mid_region\")$CSS %>% density() %>% lines(col=\"red\")\n",
    "subset(total_raw_gt.filter, FamSize>=4 & label3==\"LMHC\")$CSS %>% density() %>% plot(col=\"blue\",main=\"fam>=4\",ylim=c(0,20))\n",
    "legend(\"topleft\", c(\"y = other\", \"y = LMHC\"),col=c(\"red\", \"blue\"),lty=1)\n",
    "subset(total_raw_gt.filter, FamSize>=4 & label3==\"other\")$CSS %>% density() %>% lines(col=\"red\")"
   ]
  },
  {
   "cell_type": "markdown",
   "id": "0aa9c4a0-ad57-47d0-9da2-2f8ddd776876",
   "metadata": {},
   "source": [
    "## Compare edge proportion, consensus score, family size in HSC"
   ]
  },
  {
   "cell_type": "code",
   "execution_count": 8,
   "id": "77f5f30d-7d46-4c35-b1ea-79f9d53eb9b0",
   "metadata": {
    "tags": []
   },
   "outputs": [
    {
     "name": "stderr",
     "output_type": "stream",
     "text": [
      "Loading required package: Matrix.utils\n",
      "\n",
      "Only heteroplasmic mutations are used\n",
      "\n",
      "@Cts.Mtx and @Cts.Mtx.bi are added\n",
      "\n",
      "Only heteroplasmic mutations are used\n",
      "\n",
      "@Cts.Mtx and @Cts.Mtx.bi are added\n",
      "\n",
      "Only heteroplasmic mutations are used\n",
      "\n",
      "@Cts.Mtx and @Cts.Mtx.bi are added\n",
      "\n",
      "Only heteroplasmic mutations are used\n",
      "\n",
      "@Cts.Mtx and @Cts.Mtx.bi are added\n",
      "\n",
      "Only heteroplasmic mutations are used\n",
      "\n",
      "@Cts.Mtx and @Cts.Mtx.bi are added\n",
      "\n",
      "Only heteroplasmic mutations are used\n",
      "\n",
      "@Cts.Mtx and @Cts.Mtx.bi are added\n",
      "\n"
     ]
    }
   ],
   "source": [
    "WD <- \"/lab/solexa_weissman/cweng/Projects/MitoTracing_Velocity/SecondaryAnalysis/reproducibility_pub/data/redeemV_final/\"\n",
    "sample_namelis <- c(\"Young1.T1.HSC\", \n",
    "                    \"Young2.HSC\"\n",
    "                   )\n",
    "sample_pathlis <- paste(sample_namelis, \".Consensus.final/\", sep='')\n",
    "sum_stats_redeem.lis <- list()\n",
    "for(ind in 1:length(sample_namelis)){\n",
    "    sample <- sample_pathlis[ind]\n",
    "    sample_name <- sample_namelis[ind]\n",
    "    sensitve.raw <- read.table(paste0(WD, sample,\"/RawGenotypes.Sensitive.StrandBalance\"))\n",
    "    VariantsGTSummary <- redeemR.read(path = paste0(WD, sample),thr=\"S\",Processed = T,rdsname=\"/VariantsGTSummary.S.RDS\")\n",
    "    redeemR <- Create_redeemR(VariantsGTSummary)\n",
    "    redeemR <- Make_matrix(redeemR,onlyhetero=T)\n",
    "    blacklist <- c(\"310_T_C\", \"3109_T_C\", \"5764_C_T\", \"309T>C\", \"72_T_C\", \"10810_T_C\")\n",
    "    top_hetero_variants <- redeemR@V.fitered %>% filter(totalVAF < 0.8 & HomoTag==\"Hetero\" & !Variants %in% blacklist) %>% arrange(desc(CellN)) %>%pull(Variants)\n",
    "    sum_stats_redeem <- add_freq_raw(sensitve.raw) %>% filter(Variants %in% top_hetero_variants) %>% make_position_df_3.5()\n",
    "    sum_stats_redeem$molecule_group <- \"1\"\n",
    "    sum_stats_redeem$molecule_group[which(sum_stats_redeem$Freq==2)] <- \"2\"\n",
    "    sum_stats_redeem$molecule_group[which(sum_stats_redeem$Freq>=3)] <- \"3+\"\n",
    "    sum_stats_redeem$molecule_group <- factor(sum_stats_redeem$molecule_group, levels=c(\"1\", \"2\", \"3+\"))\n",
    "    sum_stats_redeem$edge_group <- \"edge\"\n",
    "    sum_stats_redeem$edge_group[which(sum_stats_redeem$edge_dist>=5)] <- \"non-edge\"\n",
    "    sum_stats_redeem.lis[[sample_name]] <- sum_stats_redeem\n",
    "}"
   ]
  },
  {
   "cell_type": "markdown",
   "id": "e98f7148-03cb-4dd8-801f-c72afcbba4ac",
   "metadata": {},
   "source": [
    "### HSC in young1 and young2"
   ]
  },
  {
   "cell_type": "code",
   "execution_count": 13,
   "id": "debe802f-64c5-4e90-810b-70f9680f634f",
   "metadata": {
    "tags": []
   },
   "outputs": [
    {
     "name": "stderr",
     "output_type": "stream",
     "text": [
      "\u001b[1m\u001b[22m`summarise()` has grouped output by 'Pos'. You can override using the `.groups`\n",
      "argument.\n",
      "\u001b[1m\u001b[22m`summarise()` has grouped output by 'Pos'. You can override using the `.groups`\n",
      "argument.\n"
     ]
    },
    {
     "data": {
      "text/html": [
       "<style>\n",
       ".dl-inline {width: auto; margin:0; padding: 0}\n",
       ".dl-inline>dt, .dl-inline>dd {float: none; width: auto; display: inline-block}\n",
       ".dl-inline>dt::after {content: \":\\0020\"; padding-right: .5ex}\n",
       ".dl-inline>dt:not(:first-of-type) {padding-left: .5ex}\n",
       "</style><dl class=dl-inline><dt>Y1_HSC</dt><dd>5</dd><dt>Y2_HSC</dt><dd>5</dd></dl>\n"
      ],
      "text/latex": [
       "\\begin{description*}\n",
       "\\item[Y1\\textbackslash{}\\_HSC] 5\n",
       "\\item[Y2\\textbackslash{}\\_HSC] 5\n",
       "\\end{description*}\n"
      ],
      "text/markdown": [
       "Y1_HSC\n",
       ":   5Y2_HSC\n",
       ":   5\n",
       "\n"
      ],
      "text/plain": [
       "Y1_HSC Y2_HSC \n",
       "     5      5 "
      ]
     },
     "metadata": {},
     "output_type": "display_data"
    },
    {
     "data": {
      "text/html": [
       "<style>\n",
       ".dl-inline {width: auto; margin:0; padding: 0}\n",
       ".dl-inline>dt, .dl-inline>dd {float: none; width: auto; display: inline-block}\n",
       ".dl-inline>dt::after {content: \":\\0020\"; padding-right: .5ex}\n",
       ".dl-inline>dt:not(:first-of-type) {padding-left: .5ex}\n",
       "</style><dl class=dl-inline><dt>Y1_HSC</dt><dd>0.968445484997899</dd><dt>Y2_HSC</dt><dd>0.970013814908161</dd></dl>\n"
      ],
      "text/latex": [
       "\\begin{description*}\n",
       "\\item[Y1\\textbackslash{}\\_HSC] 0.968445484997899\n",
       "\\item[Y2\\textbackslash{}\\_HSC] 0.970013814908161\n",
       "\\end{description*}\n"
      ],
      "text/markdown": [
       "Y1_HSC\n",
       ":   0.968445484997899Y2_HSC\n",
       ":   0.970013814908161\n",
       "\n"
      ],
      "text/plain": [
       "   Y1_HSC    Y2_HSC \n",
       "0.9684455 0.9700138 "
      ]
     },
     "metadata": {},
     "output_type": "display_data"
    },
    {
     "data": {
      "text/html": [
       "<style>\n",
       ".dl-inline {width: auto; margin:0; padding: 0}\n",
       ".dl-inline>dt, .dl-inline>dd {float: none; width: auto; display: inline-block}\n",
       ".dl-inline>dt::after {content: \":\\0020\"; padding-right: .5ex}\n",
       ".dl-inline>dt:not(:first-of-type) {padding-left: .5ex}\n",
       "</style><dl class=dl-inline><dt>Y1_HSC</dt><dd>0.875</dd><dt>Y2_HSC</dt><dd>0.859512061403509</dd></dl>\n"
      ],
      "text/latex": [
       "\\begin{description*}\n",
       "\\item[Y1\\textbackslash{}\\_HSC] 0.875\n",
       "\\item[Y2\\textbackslash{}\\_HSC] 0.859512061403509\n",
       "\\end{description*}\n"
      ],
      "text/markdown": [
       "Y1_HSC\n",
       ":   0.875Y2_HSC\n",
       ":   0.859512061403509\n",
       "\n"
      ],
      "text/plain": [
       "   Y1_HSC    Y2_HSC \n",
       "0.8750000 0.8595121 "
      ]
     },
     "metadata": {},
     "output_type": "display_data"
    },
    {
     "data": {
      "image/png": "[encoded data removed]",
      "text/plain": [
       "plot without title"
      ]
     },
     "metadata": {
      "image/png": {
       "height": 250,
       "width": 500
      }
     },
     "output_type": "display_data"
    }
   ],
   "source": [
    "options(repr.plot.width = 10, repr.plot.height = 5, repr.plot.res = 100)\n",
    "\n",
    "### Family size boxplot, CSS barplot, PE ratio boxplot, Put Y1_HSC and Y2_HSC 1 molecule\n",
    "Y1_HSC.sum_stats_redeem <- subset(sum_stats_redeem.lis[[\"Young1.T1.HSC\"]])\n",
    "Y1_HSC.FamSize_lis <- split(Y1_HSC.sum_stats_redeem$FamSize, Y1_HSC.sum_stats_redeem$molecule_group)[c(\"1\", \"2\", \"3+\")]\n",
    "Y1_HSC.CSS_lis <- split(Y1_HSC.sum_stats_redeem$CSS, Y1_HSC.sum_stats_redeem$molecule_group)[c(\"1\", \"2\", \"3+\")]\n",
    "Y1_HSC.PE_ratio <- Y1_HSC.sum_stats_redeem %>% group_by(Pos, molecule_group) %>% summarise(double_ratio=compute_nonzeropct(DB_Cts),)\n",
    "Y1_HSC.PE_ratio_lis <- split(Y1_HSC.PE_ratio$double_ratio, Y1_HSC.PE_ratio$molecule_group)\n",
    "\n",
    "Y2_HSC.sum_stats_redeem <- subset(sum_stats_redeem.lis[[\"Young2.HSC\"]])\n",
    "Y2_HSC.FamSize_lis <- split(Y2_HSC.sum_stats_redeem$FamSize, Y2_HSC.sum_stats_redeem$molecule_group)[c(\"1\", \"2\", \"3+\")]\n",
    "Y2_HSC.CSS_lis <- split(Y2_HSC.sum_stats_redeem$CSS, Y2_HSC.sum_stats_redeem$molecule_group)[c(\"1\", \"2\", \"3+\")]\n",
    "Y2_HSC.PE_ratio <- Y2_HSC.sum_stats_redeem %>% group_by(Pos, molecule_group) %>% summarise(double_ratio=compute_nonzeropct(DB_Cts),)\n",
    "Y2_HSC.PE_ratio_lis <- split(Y2_HSC.PE_ratio$double_ratio, Y2_HSC.PE_ratio$molecule_group)\n",
    "\n",
    "# Consensus score barplot\n",
    "sapply(list(Y1_HSC=Y1_HSC.FamSize_lis[[\"1\"]], Y2_HSC=Y2_HSC.FamSize_lis[[\"1\"]]), median)\n",
    "c(Y1_HSC=mean(Y1_HSC.CSS_lis[[\"1\"]]), Y2_HSC=mean(Y2_HSC.CSS_lis[[\"1\"]]))\n",
    "sapply(list(Y1_HSC=Y1_HSC.PE_ratio_lis[[\"1\"]], Y2_HSC=Y2_HSC.PE_ratio_lis[[\"1\"]]), median)\n",
    "par(mfrow=c(1,3))\n",
    "boxplot(list(Y1_HSC=Y1_HSC.FamSize_lis[[\"1\"]], Y2_HSC=Y2_HSC.FamSize_lis[[\"1\"]]), outline=F, ylab='Family Size')\n",
    "barplot(c(Y1_HSC=mean(Y1_HSC.CSS_lis[[\"1\"]]), Y2_HSC=mean(Y2_HSC.CSS_lis[[\"1\"]])), ylab='median CSS', ylim=c(0,1))\n",
    "boxplot(list(Y1_HSC=Y1_HSC.PE_ratio_lis[[\"1\"]], Y2_HSC=Y2_HSC.PE_ratio_lis[[\"1\"]]), outline=F, ylab='PE_ratio')\n",
    "\n"
   ]
  }
 ],
 "metadata": {
  "kernelspec": {
   "display_name": "R 4.3",
   "language": "R",
   "name": "r4.3"
  },
  "language_info": {
   "codemirror_mode": "r",
   "file_extension": ".r",
   "mimetype": "text/x-r-source",
   "name": "R",
   "pygments_lexer": "r",
   "version": "4.3.1"
  },
  "widgets": {
   "application/vnd.jupyter.widget-state+json": {
    "state": {},
    "version_major": 2,
    "version_minor": 0
   }
  }
 },
 "nbformat": 4,
 "nbformat_minor": 5
}
