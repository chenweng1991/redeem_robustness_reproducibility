{
 "cells": [
  {
   "cell_type": "markdown",
   "id": "2d801acf-9d0c-4d5f-9599-72014718e1c5",
   "metadata": {},
   "source": [
    "# 04 network graph and metrics\n",
    "---\n",
    "\n",
    "**Author:** Chen Weng\n",
    "\n",
    "**Date:** August 20, 2024\n",
    "\n",
    "\n",
    "\n",
    "---"
   ]
  },
  {
   "cell_type": "markdown",
   "id": "eaa3920c-ac78-4a03-8fc2-b468a4a50592",
   "metadata": {},
   "source": [
    "# Load packages & Functions"
   ]
  },
  {
   "cell_type": "code",
   "execution_count": 2,
   "id": "2e2fd713-a79c-4d20-81aa-7bab65dc0343",
   "metadata": {
    "tags": []
   },
   "outputs": [
    {
     "name": "stderr",
     "output_type": "stream",
     "text": [
      "\n",
      "Attaching package: ‘dplyr’\n",
      "\n",
      "\n",
      "The following objects are masked from ‘package:data.table’:\n",
      "\n",
      "    between, first, last\n",
      "\n",
      "\n",
      "The following objects are masked from ‘package:stats’:\n",
      "\n",
      "    filter, lag\n",
      "\n",
      "\n",
      "The following objects are masked from ‘package:base’:\n",
      "\n",
      "    intersect, setdiff, setequal, union\n",
      "\n",
      "\n",
      "Warning message:\n",
      "“replacing previous import ‘ape::where’ by ‘dplyr::where’ when loading ‘redeemR’”\n",
      "Warning message:\n",
      "“replacing previous import ‘ape::keep.tip’ by ‘tidytree::keep.tip’ when loading ‘redeemR’”\n",
      "Warning message:\n",
      "“replacing previous import ‘ape::drop.tip’ by ‘tidytree::drop.tip’ when loading ‘redeemR’”\n",
      "\n",
      "Attaching package: ‘gridExtra’\n",
      "\n",
      "\n",
      "The following object is masked from ‘package:dplyr’:\n",
      "\n",
      "    combine\n",
      "\n",
      "\n",
      "Loading required package: grid\n",
      "\n",
      "\n",
      "Attaching package: ‘igraph’\n",
      "\n",
      "\n",
      "The following objects are masked from ‘package:dplyr’:\n",
      "\n",
      "    as_data_frame, groups, union\n",
      "\n",
      "\n",
      "The following objects are masked from ‘package:stats’:\n",
      "\n",
      "    decompose, spectrum\n",
      "\n",
      "\n",
      "The following object is masked from ‘package:base’:\n",
      "\n",
      "    union\n",
      "\n",
      "\n"
     ]
    }
   ],
   "source": [
    "library(data.table)\n",
    "library(dplyr)\n",
    "library(redeemR)\n",
    "library(ggplot2)\n",
    "library(gridExtra)\n",
    "library(ggsci)\n",
    "library(ggvenn)\n",
    "library(igraph)\n",
    "get_dist<-function(Cts.Mtx.bi){\n",
    "    V.weight<-data.frame(weight=1-CellPCT$muRate)\n",
    "    V.weight$Variants<-paste(\"Variants\",gsub(\"_\",\"\",CellPCT$Variant),sep=\"\")\n",
    "    weight<-data.frame(Variants=colnames(Cts.Mtx.bi)) %>% merge(.,V.weight,by=\"Variants\",all.x = T,sort = F) %>% .$weight\n",
    "    weight[is.na(weight)]<-1\n",
    "    d.w_jaccard<-quick_w_jaccard(Cts.Mtx.bi,w=weight)\n",
    "    return(d.w_jaccard)\n",
    "}\n",
    "compute_largest_subgraph <- function(mtx,n=1){\n",
    "    adj.mtx <- (mtx %*% t(mtx)) >= n\n",
    "    diag(adj.mtx)<-0\n",
    "    mc <- graph_from_adjacency_matrix(adj.mtx) %>% components(mode = \"weak\") \n",
    "    return(max(mc$csize)/nrow(mtx))\n",
    "\n",
    "}\n",
    "\n",
    "get_adj_graph <- function(mtx,n=1){\n",
    "    adj.mtx <- (mtx %*% t(mtx)) >= n\n",
    "    diag(adj.mtx)<-0\n",
    "    return(graph_from_adjacency_matrix(adj.mtx, mode = \"undirected\"))\n",
    "}\n",
    "Compute_redeemR_adj_metrics <- function(redeemR_input, name){\n",
    "    redeemR_obj <- Make_matrix(redeemR_input$redeemR, onlyhetero=T)\n",
    "    adjacency_graph <- get_adj_graph(redeemR_obj@Cts.Mtx.bi)\n",
    "    largest_subgraph <- compute_largest_subgraph(redeemR_obj@Cts.Mtx.bi)\n",
    "    avg_degree <- mean(degree(adjacency_graph))\n",
    "    graph_diameter <- diameter(adjacency_graph, directed=FALSE)\n",
    "    avg_path_length <- mean_distance(adjacency_graph, directed=FALSE)\n",
    "    Transitivity <- transitivity(adjacency_graph, type=\"global\")\n",
    "    print(name)\n",
    "    print(paste(\"largest_subgraph\", largest_subgraph))\n",
    "    \n",
    "    print(paste(\"Average degree\", avg_degree))\n",
    "    print(paste(\"Diameter\", graph_diameter))\n",
    "    print(paste(\"Average Path Length\", avg_path_length))\n",
    "    print(paste(\"Clustering Coefficient (Transitivity)\", Transitivity))\n",
    "    return(list(metric=c(name, avg_degree, graph_diameter, avg_path_length, Transitivity), graph = adjacency_graph))\n",
    "}\n",
    "# Plot_redeemR_graph <- function(redeemR_input, name){\n",
    "#     redeemR_obj <- Make_matrix(redeemR_input$redeemR, onlyhetero=T)\n",
    "#     Y1_BMMC.filter1.adjacency_graph <- get_adj_graph(Y1_BMMC.filter1$redeemR@Cts.Mtx.bi)\n",
    "# }"
   ]
  },
  {
   "cell_type": "markdown",
   "id": "3dfa1971-d657-4187-ae0c-064c67355819",
   "metadata": {},
   "source": [
    "Prepare preprocessed filter1 and filter2 redeem objject and QC using ```../../runscript/prepare_redeemr_trim_test.r and prepare_redeemr.r``` to get prepare_redeem_*.rds"
   ]
  },
  {
   "cell_type": "code",
   "execution_count": 3,
   "id": "c6eb540b-2b28-47d5-af37-57ef12d3a07a",
   "metadata": {
    "tags": []
   },
   "outputs": [],
   "source": [
    "\n",
    "Y1_BMMC.filter1 <- readRDS(\"Path/prepare_redeemr_v1.young1_BMMC.rds\")\n",
    "Y1_BMMC.filter2 <- readRDS(\"Path/prepare_redeemr_trim5_binom.young1_BMMC.rds\")\n",
    "\n",
    "Y1_HSC.filter1 <- readRDS(\"Path/output/prepare_redeemr_v1.young1_HSC.rds\")\n",
    "Y1_HSC.filter2 <- readRDS(\"Path/output/prepare_redeemr_trim5_binom.young1_HSC.rds\")\n",
    "\n",
    "Y1_HPC.filter1 <- readRDS(\"Path/prepare_redeemr_v1.young1_HPC.rds\")\n",
    "Y1_HPC.filter2 <- readRDS(\"Path/prepare_redeemr_trim5_binom.young1_HPC.rds\")\n",
    "\n",
    "Y2_BMMC.filter1 <- readRDS(\"Path/prepare_redeemr_v1.young2_BMMC.rds\")\n",
    "Y2_BMMC.filter2 <- readRDS(\"Path/prepare_redeemr_trim5_binom.young2_BMMC.rds\")\n",
    "\n",
    "Y2_HSC.filter1 <- readRDS(\"Path/prepare_redeemr_v1.young2_HSC.rds\")\n",
    "Y2_HSC.filter2 <- readRDS(\"Path/prepare_redeemr_trim5_binom.young2_HSC.rds\")\n",
    "\n",
    "Y2_HPC.filter1 <- readRDS(\"Path/prepare_redeemr_v1.young2_HPC.rds\")\n",
    "Y2_HPC.filter2 <- readRDS(\"Path/prepare_redeemr_trim5_binom.young2_HPC.rds\")\n",
    "\n",
    "O1_HSPC.filter1 <- readRDS(\"Path/prepare_redeemr_v1.Old1_HSPC.rds\")\n",
    "O1_HSPC.filter2 <- readRDS(\"Path/prepare_redeemr_trim5_binom.Old1_HSPC.rds\")\n",
    "\n",
    "O1_BMMC.filter1 <- readRDS(\"Path/prepare_redeemr_v1.Old1_BMMC.rds\")\n",
    "O1_BMMC.filter2 <- readRDS(\"Path/prepare_redeemr_trim5_binom.Old1_BMMC.rds\")\n",
    "\n",
    "O2_HSPC.filter1 <- readRDS(\"Path/prepare_redeemr_v1.Old2_HSPC.rds\")\n",
    "O2_HSPC.filter2 <- readRDS(\"Path/prepare_redeemr_trim5_binom.Old2_HSPC.rds\")\n",
    "\n",
    "O2_BMMC.filter1 <- readRDS(\"Path/prepare_redeemr_v1.Old2_BMMC.rds\")\n",
    "O2_BMMC.filter2 <- readRDS(\"Path/prepare_redeemr_trim5_binom.Old2_BMMC.rds\")\n",
    "\n",
    "data(CellPCT)\n",
    "V.weight<-data.frame(weight=1-CellPCT$muRate)\n",
    "V.weight$Variants<-paste(\"Variants\",gsub(\"_\",\"\",CellPCT$Variant),sep=\"\")\n"
   ]
  },
  {
   "cell_type": "markdown",
   "id": "465f1459-1200-4760-aa82-45f86e07e2ac",
   "metadata": {
    "tags": []
   },
   "source": [
    "## Calculate graph metrics from redeem R project for each sample"
   ]
  },
  {
   "cell_type": "code",
   "execution_count": null,
   "id": "14bd45ac-d950-4f80-9d50-51009c91f5fe",
   "metadata": {
    "tags": []
   },
   "outputs": [
    {
     "name": "stderr",
     "output_type": "stream",
     "text": [
      "Loading required package: Matrix.utils\n",
      "\n",
      "Loading required package: Matrix\n",
      "\n",
      "Only heteroplasmic mutations are used\n",
      "\n",
      "@Cts.Mtx and @Cts.Mtx.bi are added\n",
      "\n"
     ]
    },
    {
     "name": "stdout",
     "output_type": "stream",
     "text": [
      "[1] \"Y1_BMMC.filter1\"\n",
      "[1] \"largest_subgraph 1\"\n",
      "[1] \"Average degree 233.508514986376\"\n",
      "[1] \"Diameter 5\"\n",
      "[1] \"Average Path Length 2.11409797475886\"\n",
      "[1] \"Clustering Coefficient (Transitivity) 0.347531899346927\"\n"
     ]
    },
    {
     "name": "stderr",
     "output_type": "stream",
     "text": [
      "Only heteroplasmic mutations are used\n",
      "\n",
      "@Cts.Mtx and @Cts.Mtx.bi are added\n",
      "\n"
     ]
    },
    {
     "name": "stdout",
     "output_type": "stream",
     "text": [
      "[1] \"Y1_BMMC.filter2\"\n",
      "[1] \"largest_subgraph 0.997324670361169\"\n",
      "[1] \"Average degree 34.1995031530671\"\n",
      "[1] \"Diameter 7\"\n",
      "[1] \"Average Path Length 3.07340173574755\"\n",
      "[1] \"Clustering Coefficient (Transitivity) 0.56506898497628\"\n"
     ]
    },
    {
     "name": "stderr",
     "output_type": "stream",
     "text": [
      "Only heteroplasmic mutations are used\n",
      "\n",
      "@Cts.Mtx and @Cts.Mtx.bi are added\n",
      "\n"
     ]
    },
    {
     "name": "stdout",
     "output_type": "stream",
     "text": [
      "[1] \"Y1_HSC.filter1\"\n",
      "[1] \"largest_subgraph 1\"\n",
      "[1] \"Average degree 218.527073450025\"\n",
      "[1] \"Diameter 5\"\n",
      "[1] \"Average Path Length 2.17857194092411\"\n",
      "[1] \"Clustering Coefficient (Transitivity) 0.481877078972731\"\n"
     ]
    },
    {
     "name": "stderr",
     "output_type": "stream",
     "text": [
      "Only heteroplasmic mutations are used\n",
      "\n",
      "@Cts.Mtx and @Cts.Mtx.bi are added\n",
      "\n"
     ]
    },
    {
     "name": "stdout",
     "output_type": "stream",
     "text": [
      "[1] \"Y1_HSC.filter2\"\n",
      "[1] \"largest_subgraph 0.999663129526697\"\n",
      "[1] \"Average degree 61.5347818763685\"\n",
      "[1] \"Diameter 6\"\n",
      "[1] \"Average Path Length 2.68322336585772\"\n",
      "[1] \"Clustering Coefficient (Transitivity) 0.504399675289598\"\n"
     ]
    },
    {
     "name": "stderr",
     "output_type": "stream",
     "text": [
      "Only heteroplasmic mutations are used\n",
      "\n",
      "@Cts.Mtx and @Cts.Mtx.bi are added\n",
      "\n"
     ]
    },
    {
     "name": "stdout",
     "output_type": "stream",
     "text": [
      "[1] \"Y1_HPC.filter1\"\n",
      "[1] \"largest_subgraph 1\"\n",
      "[1] \"Average degree 548.9646984328\"\n",
      "[1] \"Diameter 4\"\n",
      "[1] \"Average Path Length 1.94749679258488\"\n",
      "[1] \"Clustering Coefficient (Transitivity) 0.343892700981663\"\n"
     ]
    },
    {
     "name": "stderr",
     "output_type": "stream",
     "text": [
      "Only heteroplasmic mutations are used\n",
      "\n",
      "@Cts.Mtx and @Cts.Mtx.bi are added\n",
      "\n"
     ]
    },
    {
     "name": "stdout",
     "output_type": "stream",
     "text": [
      "[1] \"Y1_HPC.filter2\"\n",
      "[1] \"largest_subgraph 1\"\n",
      "[1] \"Average degree 128.010073111292\"\n",
      "[1] \"Diameter 5\"\n",
      "[1] \"Average Path Length 2.37254956522106\"\n",
      "[1] \"Clustering Coefficient (Transitivity) 0.508818558741977\"\n"
     ]
    },
    {
     "name": "stderr",
     "output_type": "stream",
     "text": [
      "Only heteroplasmic mutations are used\n",
      "\n",
      "@Cts.Mtx and @Cts.Mtx.bi are added\n",
      "\n"
     ]
    },
    {
     "name": "stdout",
     "output_type": "stream",
     "text": [
      "[1] \"Y2_BMMC.filter1\"\n",
      "[1] \"largest_subgraph 1\"\n",
      "[1] \"Average degree 210.651757188498\"\n",
      "[1] \"Diameter 5\"\n",
      "[1] \"Average Path Length 2.24730668966463\"\n",
      "[1] \"Clustering Coefficient (Transitivity) 0.442934186554379\"\n"
     ]
    },
    {
     "name": "stderr",
     "output_type": "stream",
     "text": [
      "Only heteroplasmic mutations are used\n",
      "\n",
      "@Cts.Mtx and @Cts.Mtx.bi are added\n",
      "\n"
     ]
    },
    {
     "name": "stdout",
     "output_type": "stream",
     "text": [
      "[1] \"Y2_BMMC.filter2\"\n",
      "[1] \"largest_subgraph 0.998120028922632\"\n",
      "[1] \"Average degree 60.5020968908171\"\n",
      "[1] \"Diameter 7\"\n",
      "[1] \"Average Path Length 3.01181367872724\"\n",
      "[1] \"Clustering Coefficient (Transitivity) 0.861344764556821\"\n"
     ]
    },
    {
     "name": "stderr",
     "output_type": "stream",
     "text": [
      "Only heteroplasmic mutations are used\n",
      "\n",
      "@Cts.Mtx and @Cts.Mtx.bi are added\n",
      "\n"
     ]
    },
    {
     "name": "stdout",
     "output_type": "stream",
     "text": [
      "[1] \"Y2_HSC.filter1\"\n",
      "[1] \"largest_subgraph 1\"\n",
      "[1] \"Average degree 378.985097439817\"\n",
      "[1] \"Diameter 4\"\n",
      "[1] \"Average Path Length 2.09212046200554\"\n",
      "[1] \"Clustering Coefficient (Transitivity) 0.390251248498248\"\n"
     ]
    },
    {
     "name": "stderr",
     "output_type": "stream",
     "text": [
      "Only heteroplasmic mutations are used\n",
      "\n",
      "@Cts.Mtx and @Cts.Mtx.bi are added\n",
      "\n"
     ]
    },
    {
     "name": "stdout",
     "output_type": "stream",
     "text": [
      "[1] \"Y2_HSC.filter2\"\n",
      "[1] \"largest_subgraph 0.999604977286194\"\n",
      "[1] \"Average degree 94.8380406873395\"\n",
      "[1] \"Diameter 6\"\n",
      "[1] \"Average Path Length 2.57973036904589\"\n",
      "[1] \"Clustering Coefficient (Transitivity) 0.425769976553388\"\n"
     ]
    },
    {
     "name": "stderr",
     "output_type": "stream",
     "text": [
      "Only heteroplasmic mutations are used\n",
      "\n",
      "@Cts.Mtx and @Cts.Mtx.bi are added\n",
      "\n"
     ]
    },
    {
     "name": "stdout",
     "output_type": "stream",
     "text": [
      "[1] \"Y2_HPC.filter1\"\n",
      "[1] \"largest_subgraph 1\"\n",
      "[1] \"Average degree 421.662923822105\"\n",
      "[1] \"Diameter 4\"\n",
      "[1] \"Average Path Length 2.05999895382342\"\n",
      "[1] \"Clustering Coefficient (Transitivity) 0.354446498497007\"\n"
     ]
    },
    {
     "name": "stderr",
     "output_type": "stream",
     "text": [
      "Only heteroplasmic mutations are used\n",
      "\n",
      "@Cts.Mtx and @Cts.Mtx.bi are added\n",
      "\n"
     ]
    },
    {
     "name": "stdout",
     "output_type": "stream",
     "text": [
      "[1] \"Y2_HPC.filter2\"\n",
      "[1] \"largest_subgraph 1\"\n",
      "[1] \"Average degree 81.3171968649147\"\n",
      "[1] \"Diameter 6\"\n",
      "[1] \"Average Path Length 2.63352011511434\"\n",
      "[1] \"Clustering Coefficient (Transitivity) 0.428066992912004\"\n"
     ]
    },
    {
     "name": "stderr",
     "output_type": "stream",
     "text": [
      "Only heteroplasmic mutations are used\n",
      "\n",
      "@Cts.Mtx and @Cts.Mtx.bi are added\n",
      "\n"
     ]
    },
    {
     "name": "stdout",
     "output_type": "stream",
     "text": [
      "[1] \"O1_HSPC.filter1\"\n",
      "[1] \"largest_subgraph 1\"\n",
      "[1] \"Average degree 458.419954806188\"\n",
      "[1] \"Diameter 4\"\n",
      "[1] \"Average Path Length 1.96386507662326\"\n",
      "[1] \"Clustering Coefficient (Transitivity) 0.391015393755302\"\n"
     ]
    },
    {
     "name": "stderr",
     "output_type": "stream",
     "text": [
      "Only heteroplasmic mutations are used\n",
      "\n",
      "@Cts.Mtx and @Cts.Mtx.bi are added\n",
      "\n"
     ]
    },
    {
     "name": "stdout",
     "output_type": "stream",
     "text": [
      "[1] \"O1_HSPC.filter2\"\n",
      "[1] \"largest_subgraph 1\"\n",
      "[1] \"Average degree 197.857472898525\"\n",
      "[1] \"Diameter 6\"\n",
      "[1] \"Average Path Length 2.29711295603803\"\n",
      "[1] \"Clustering Coefficient (Transitivity) 0.52039434009861\"\n"
     ]
    },
    {
     "name": "stderr",
     "output_type": "stream",
     "text": [
      "Only heteroplasmic mutations are used\n",
      "\n",
      "@Cts.Mtx and @Cts.Mtx.bi are added\n",
      "\n"
     ]
    },
    {
     "name": "stdout",
     "output_type": "stream",
     "text": [
      "[1] \"O1_BMMC.filter1\"\n",
      "[1] \"largest_subgraph 1\"\n",
      "[1] \"Average degree 167.520455161203\"\n",
      "[1] \"Diameter 5\"\n",
      "[1] \"Average Path Length 2.2906705659537\"\n",
      "[1] \"Clustering Coefficient (Transitivity) 0.444214395383641\"\n"
     ]
    },
    {
     "name": "stderr",
     "output_type": "stream",
     "text": [
      "Only heteroplasmic mutations are used\n",
      "\n",
      "@Cts.Mtx and @Cts.Mtx.bi are added\n",
      "\n"
     ]
    },
    {
     "name": "stdout",
     "output_type": "stream",
     "text": [
      "[1] \"O1_BMMC.filter2\"\n",
      "[1] \"largest_subgraph 0.998725573491929\"\n",
      "[1] \"Average degree 70.5729255168507\"\n",
      "[1] \"Diameter 6\"\n",
      "[1] \"Average Path Length 2.71104308500534\"\n",
      "[1] \"Clustering Coefficient (Transitivity) 0.524413080982715\"\n"
     ]
    },
    {
     "name": "stderr",
     "output_type": "stream",
     "text": [
      "Only heteroplasmic mutations are used\n",
      "\n",
      "@Cts.Mtx and @Cts.Mtx.bi are added\n",
      "\n"
     ]
    },
    {
     "name": "stdout",
     "output_type": "stream",
     "text": [
      "[1] \"O2_HSPC.filter1\"\n",
      "[1] \"largest_subgraph 1\"\n",
      "[1] \"Average degree 9396.42979656961\"\n",
      "[1] \"Diameter 3\"\n",
      "[1] \"Average Path Length 1.06296945196513\"\n",
      "[1] \"Clustering Coefficient (Transitivity) 0.991242673630241\"\n"
     ]
    },
    {
     "name": "stderr",
     "output_type": "stream",
     "text": [
      "Only heteroplasmic mutations are used\n",
      "\n",
      "@Cts.Mtx and @Cts.Mtx.bi are added\n",
      "\n"
     ]
    }
   ],
   "source": [
    "Y1_BMMC.filter1.metric <- Compute_redeemR_adj_metrics(Y1_BMMC.filter1, \"Y1_BMMC.filter1\")\n",
    "Y1_BMMC.filter2.metric <- Compute_redeemR_adj_metrics(Y1_BMMC.filter2, \"Y1_BMMC.filter2\")\n",
    "Y1_HSC.filter1.metric <- Compute_redeemR_adj_metrics(Y1_HSC.filter1, \"Y1_HSC.filter1\")\n",
    "Y1_HSC.filter2.metric <- Compute_redeemR_adj_metrics(Y1_HSC.filter2, \"Y1_HSC.filter2\")\n",
    "Y1_HPC.filter1.metric <- Compute_redeemR_adj_metrics(Y1_HPC.filter1, \"Y1_HPC.filter1\")\n",
    "Y1_HPC.filter2.metric <- Compute_redeemR_adj_metrics(Y1_HPC.filter2, \"Y1_HPC.filter2\")\n",
    "\n",
    "Y2_BMMC.filter1.metric <- Compute_redeemR_adj_metrics(Y2_BMMC.filter1, \"Y2_BMMC.filter1\")\n",
    "Y2_BMMC.filter2.metric <- Compute_redeemR_adj_metrics(Y2_BMMC.filter2, \"Y2_BMMC.filter2\")\n",
    "Y2_HSC.filter1.metric <- Compute_redeemR_adj_metrics(Y2_HSC.filter1, \"Y2_HSC.filter1\")\n",
    "Y2_HSC.filter2.metric <- Compute_redeemR_adj_metrics(Y2_HSC.filter2, \"Y2_HSC.filter2\")\n",
    "Y2_HPC.filter1.metric <- Compute_redeemR_adj_metrics(Y2_HPC.filter1, \"Y2_HPC.filter1\")\n",
    "Y2_HPC.filter2.metric <- Compute_redeemR_adj_metrics(Y2_HPC.filter2, \"Y2_HPC.filter2\")\n",
    "\n",
    "O1_HSPC.filter1.metric <- Compute_redeemR_adj_metrics(O1_HSPC.filter1, \"O1_HSPC.filter1\")\n",
    "O1_HSPC.filter2.metric <- Compute_redeemR_adj_metrics(O1_HSPC.filter2, \"O1_HSPC.filter2\")\n",
    "O1_BMMC.filter1.metric <- Compute_redeemR_adj_metrics(O1_BMMC.filter1, \"O1_BMMC.filter1\")\n",
    "O1_BMMC.filter2.metric <- Compute_redeemR_adj_metrics(O1_BMMC.filter2, \"O1_BMMC.filter2\")\n",
    "\n",
    "O2_HSPC.filter1.metric <- Compute_redeemR_adj_metrics(O2_HSPC.filter1, \"O2_HSPC.filter1\")\n",
    "O2_HSPC.filter2.metric <- Compute_redeemR_adj_metrics(O2_HSPC.filter2, \"O2_HSPC.filter2\")\n",
    "O2_BMMC.filter1.metric <- Compute_redeemR_adj_metrics(O2_BMMC.filter1, \"O2_BMMC.filter1\")\n",
    "O2_BMMC.filter2.metric <- Compute_redeemR_adj_metrics(O2_BMMC.filter2, \"O2_BMMC.filter2\")\n"
   ]
  },
  {
   "cell_type": "code",
   "execution_count": null,
   "id": "6784ea10-bd0d-48b4-a9d1-21d1e15830f0",
   "metadata": {
    "tags": []
   },
   "outputs": [],
   "source": [
    "png(\"../plots/Y1_BMMC.filter1.graph.png\")\n",
    "plot(Y1_BMMC.filter1.metric$graph, layout=layout_with_kk, vertex.size = 1, vertex.label = NA, edge.label = NA)\n",
    "dev.off()\n",
    "png(\"../plots/Y1_BMMC.filter2.graph.png\")\n",
    "plot(Y1_BMMC.filter2.metric$graph, layout=layout_with_kk, vertex.size = 1, vertex.label = NA, edge.label = NA)\n",
    "dev.off()\n",
    "png(\"../plots/Y2_BMMC.filter1.graph.png\")\n",
    "plot(Y2_BMMC.filter1.metric$graph, layout=layout_with_kk, vertex.size = 1, vertex.label = NA, edge.label = NA)\n",
    "dev.off()\n",
    "png(\"../plots/Y2_BMMC.filter2.graph.png\")\n",
    "plot(Y2_BMMC.filter2.metric$graph, layout=layout_with_kk, vertex.size = 1, vertex.label = NA, edge.label = NA)\n",
    "dev.off()\n",
    "\n",
    "png(\"../plots/Y1_HSC.filter1.graph.png\")\n",
    "plot(Y1_HSC.filter1.metric$graph, layout=layout_with_kk, vertex.size = 1, vertex.label = NA, edge.label = NA)\n",
    "dev.off()\n",
    "png(\"../plots/Y1_HSC.filter2.graph.png\")\n",
    "plot(Y1_HSC.filter2.metric$graph, layout=layout_with_kk, vertex.size = 1, vertex.label = NA, edge.label = NA)\n",
    "dev.off()\n",
    "png(\"../plots/Y2_HSC.filter1.graph.png\")\n",
    "plot(Y2_HSC.filter1.metric$graph, layout=layout_with_kk, vertex.size = 1, vertex.label = NA, edge.label = NA)\n",
    "dev.off()\n",
    "png(\"../plots/Y2_HSC.filter2.graph.png\")\n",
    "plot(Y2_HSC.filter2.metric$graph, layout=layout_with_kk, vertex.size = 1, vertex.label = NA, edge.label = NA)\n",
    "dev.off()\n",
    "\n",
    "png(\"../plots/Y1_HPC.filter1.graph.png\")\n",
    "plot(Y1_HPC.filter1.metric$graph, layout=layout_with_kk, vertex.size = 1, vertex.label = NA, edge.label = NA)\n",
    "dev.off()\n",
    "png(\"../plots/Y1_HPC.filter2.graph.png\")\n",
    "plot(Y1_HPC.filter2.metric$graph, layout=layout_with_kk, vertex.size = 1, vertex.label = NA, edge.label = NA)\n",
    "dev.off()\n",
    "png(\"../plots/Y2_HPC.filter1.graph.png\")\n",
    "plot(Y2_HPC.filter1.metric$graph, layout=layout_with_kk, vertex.size = 1, vertex.label = NA, edge.label = NA)\n",
    "dev.off()\n",
    "png(\"../plots/Y2_HPC.filter2.graph.png\")\n",
    "plot(Y2_HPC.filter2.metric$graph, layout=layout_with_kk, vertex.size = 1, vertex.label = NA, edge.label = NA)\n",
    "dev.off()\n",
    "\n",
    "png(\"../plots/O1_HSPC.filter1.graph.png\")\n",
    "plot(O1_HSPC.filter1.metric$graph, layout=layout_with_kk, vertex.size = 1, vertex.label = NA, edge.label = NA)\n",
    "dev.off()\n",
    "png(\"../plots/O1_HSPC.filter2.graph.png\")\n",
    "plot(O1_HSPC.filter2.metric$graph, layout=layout_with_kk, vertex.size = 1, vertex.label = NA, edge.label = NA)\n",
    "dev.off()\n",
    "png(\"../plots/O2_HSPC.filter1.graph.png\")\n",
    "plot(O2_HSPC.filter1.metric$graph, layout=layout_with_kk, vertex.size = 1, vertex.label = NA, edge.label = NA)\n",
    "dev.off()\n",
    "png(\"../plots/O2_HSPC.filter2.graph.png\")\n",
    "plot(O2_HSPC.filter2.metric$graph, layout=layout_with_kk, vertex.size = 1, vertex.label = NA, edge.label = NA)\n",
    "dev.off()\n",
    "\n",
    "png(\"../plots/O1_BMMC.filter1.graph.png\")\n",
    "plot(O1_BMMC.filter1.metric$graph, layout=layout_with_kk, vertex.size = 1, vertex.label = NA, edge.label = NA)\n",
    "dev.off()\n",
    "png(\"../plots/O1_BMMC.filter2.graph.png\")\n",
    "plot(O1_BMMC.filter2.metric$graph, layout=layout_with_kk, vertex.size = 1, vertex.label = NA, edge.label = NA)\n",
    "dev.off()\n",
    "png(\"../plots/O2_BMMC.filter1.graph.png\")\n",
    "plot(O2_BMMC.filter1.metric$graph, layout=layout_with_kk, vertex.size = 1, vertex.label = NA, edge.label = NA)\n",
    "dev.off()\n",
    "png(\"../plots/O2_BMMC.filter2.graph.png\")\n",
    "plot(O2_BMMC.filter2.metric$graph, layout=layout_with_kk, vertex.size = 1, vertex.label = NA, edge.label = NA)\n",
    "dev.off()"
   ]
  },
  {
   "cell_type": "code",
   "execution_count": null,
   "id": "bb759084-5fb7-410b-940a-7bd8cca0e268",
   "metadata": {},
   "outputs": [],
   "source": []
  }
 ],
 "metadata": {
  "kernelspec": {
   "display_name": "R 4.3",
   "language": "R",
   "name": "r4.3"
  },
  "language_info": {
   "codemirror_mode": "r",
   "file_extension": ".r",
   "mimetype": "text/x-r-source",
   "name": "R",
   "pygments_lexer": "r",
   "version": "4.3.1"
  },
  "widgets": {
   "application/vnd.jupyter.widget-state+json": {
    "state": {},
    "version_major": 2,
    "version_minor": 0
   }
  }
 },
 "nbformat": 4,
 "nbformat_minor": 5
}
